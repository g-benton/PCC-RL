{
 "cells": [
  {
   "cell_type": "code",
   "execution_count": 1,
   "metadata": {
    "collapsed": true
   },
   "outputs": [],
   "source": [
    "import math\n",
    "import torch\n",
    "import ntwrk\n",
    "from ntwrk.bayesopt import BayesOpt, expected_improvement, max_mean\n",
    "\n",
    "import gym\n",
    "import sys\n",
    "sys.path.append(\"../ntwrk/gym/\")\n",
    "import network_sim\n",
    "import numpy as np\n",
    "import matplotlib.pyplot as plt"
   ]
  },
  {
   "cell_type": "markdown",
   "metadata": {},
   "source": [
    "## Let's Try Bayesian Optimization"
   ]
  },
  {
   "cell_type": "markdown",
   "metadata": {},
   "source": [
    "#### Make Network"
   ]
  },
  {
   "cell_type": "code",
   "execution_count": 2,
   "metadata": {},
   "outputs": [
    {
     "name": "stdout",
     "output_type": "stream",
     "text": [
      "History length: 10\n",
      "Features: ['sent latency inflation', 'latency ratio', 'send ratio']\n",
      "Getting min obs for ['sent latency inflation', 'latency ratio', 'send ratio']\n",
      "Reward: 0.00, Ewma Reward: 0.00\n"
     ]
    },
    {
     "name": "stderr",
     "output_type": "stream",
     "text": [
      "/home/vagrant/.local/lib/python3.6/site-packages/gym/logger.py:30: UserWarning: \u001b[33mWARN: Box bound precision lowered by casting to float32\u001b[0m\n",
      "  warnings.warn(colorize('%s: %s'%('WARN', msg % args), 'yellow'))\n"
     ]
    },
    {
     "data": {
      "text/plain": [
       "array([0., 1., 1., 0., 1., 1., 0., 1., 1., 0., 1., 1., 0., 1., 1., 0., 1.,\n",
       "       1., 0., 1., 1., 0., 1., 1., 0., 1., 1., 0., 1., 1.])"
      ]
     },
     "execution_count": 2,
     "metadata": {},
     "output_type": "execute_result"
    }
   ],
   "source": [
    "env = gym.make(\"PccNs-v0\")\n",
    "env.reset()"
   ]
  },
  {
   "cell_type": "code",
   "execution_count": 3,
   "metadata": {
    "collapsed": true
   },
   "outputs": [],
   "source": [
    "step_output = env.step(torch.randn(1))"
   ]
  },
  {
   "cell_type": "code",
   "execution_count": 4,
   "metadata": {},
   "outputs": [
    {
     "data": {
      "text/plain": [
       "array([0.        , 1.        , 1.        , 0.        , 1.        ,\n",
       "       1.        , 0.        , 1.        , 1.        , 0.        ,\n",
       "       1.        , 1.        , 0.        , 1.        , 1.        ,\n",
       "       0.        , 1.        , 1.        , 0.        , 1.        ,\n",
       "       1.        , 0.        , 1.        , 1.        , 0.        ,\n",
       "       1.        , 1.        , 0.        , 1.        , 1.03825137])"
      ]
     },
     "execution_count": 4,
     "metadata": {},
     "output_type": "execute_result"
    }
   ],
   "source": [
    "step_output[0]"
   ]
  },
  {
   "cell_type": "code",
   "execution_count": 5,
   "metadata": {},
   "outputs": [
    {
     "data": {
      "text/plain": [
       "-0.48673557704363746"
      ]
     },
     "execution_count": 5,
     "metadata": {},
     "output_type": "execute_result"
    }
   ],
   "source": [
    "step_output[1]"
   ]
  },
  {
   "cell_type": "markdown",
   "metadata": {},
   "source": [
    "#### set up phase"
   ]
  },
  {
   "cell_type": "code",
   "execution_count": 6,
   "metadata": {},
   "outputs": [
    {
     "name": "stdout",
     "output_type": "stream",
     "text": [
      "tensor(-1.4073)\n",
      "tensor(-0.8224)\n",
      "tensor(0.7452)\n"
     ]
    }
   ],
   "source": [
    "max_jump = 2.\n",
    "n_start = 3\n",
    "deltas = torch.rand(n_start) * 2*max_jump - max_jump\n",
    "rwrds = torch.zeros(n_start)\n",
    "for dind, dd in enumerate(deltas):\n",
    "    rwrds[dind] = env.step(dd.unsqueeze(-1))[1].item()\n",
    "    print(dd)\n"
   ]
  },
  {
   "cell_type": "code",
   "execution_count": 7,
   "metadata": {},
   "outputs": [
    {
     "data": {
      "text/plain": [
       "1666877.890477401"
      ]
     },
     "execution_count": 7,
     "metadata": {},
     "output_type": "execute_result"
    }
   ],
   "source": [
    "env.senders[0].get_run_data().get(\"recv rate\")"
   ]
  },
  {
   "cell_type": "code",
   "execution_count": 8,
   "metadata": {
    "collapsed": true
   },
   "outputs": [],
   "source": [
    "output = env.step(dd.unsqueeze(-1))"
   ]
  },
  {
   "cell_type": "code",
   "execution_count": 9,
   "metadata": {},
   "outputs": [
    {
     "data": {
      "text/plain": [
       "(30,)"
      ]
     },
     "execution_count": 9,
     "metadata": {},
     "output_type": "execute_result"
    }
   ],
   "source": [
    "output[0].shape"
   ]
  },
  {
   "cell_type": "code",
   "execution_count": 10,
   "metadata": {},
   "outputs": [
    {
     "data": {
      "text/plain": [
       "tensor([-1.4073, -0.8224,  0.7452])"
      ]
     },
     "execution_count": 10,
     "metadata": {},
     "output_type": "execute_result"
    }
   ],
   "source": [
    "deltas"
   ]
  },
  {
   "cell_type": "code",
   "execution_count": 11,
   "metadata": {},
   "outputs": [
    {
     "data": {
      "image/png": "[encoded data removed]",
      "text/plain": [
       "<Figure size 432x288 with 1 Axes>"
      ]
     },
     "metadata": {},
     "output_type": "display_data"
    }
   ],
   "source": [
    "plt.plot(deltas, rwrds, marker='.', linestyle=\"None\")\n",
    "plt.title(\"Starting Rewards\")\n",
    "plt.show()"
   ]
  },
  {
   "cell_type": "code",
   "execution_count": 12,
   "metadata": {},
   "outputs": [
    {
     "data": {
      "text/plain": [
       "tensor([-1.4073, -0.8224,  0.7452])"
      ]
     },
     "execution_count": 12,
     "metadata": {},
     "output_type": "execute_result"
    }
   ],
   "source": [
    "deltas"
   ]
  },
  {
   "cell_type": "code",
   "execution_count": 13,
   "metadata": {
    "collapsed": true
   },
   "outputs": [],
   "source": [
    "bo = BayesOpt(deltas, rwrds, normalize=True, max_delta=max_jump, acquisition=expected_improvement)"
   ]
  },
  {
   "cell_type": "code",
   "execution_count": 14,
   "metadata": {
    "scrolled": true
   },
   "outputs": [
    {
     "name": "stdout",
     "output_type": "stream",
     "text": [
      "1660816.7161211495\n",
      "1720894.583134024\n",
      "1610117.471503573\n",
      "1666099.0545800591\n",
      "1779886.5610182416\n",
      "1921147.3991942964\n",
      "1750564.2174992168\n",
      "1635476.5777854435\n",
      "1638364.7611601853\n",
      "1505872.520654523\n",
      "1525374.0879767241\n",
      "1665799.8918996751\n",
      "1666877.8904774045\n",
      "1692682.4104035913\n",
      "1779198.9574070836\n",
      "1859079.824662665\n",
      "1977651.734464717\n",
      "1823678.7682226778\n",
      "1779886.5610182453\n",
      "1751634.3933830352\n",
      "1592217.3599996623\n",
      "1723382.2257478249\n",
      "1836390.896288666\n",
      "1657591.313353232\n",
      "1610373.5552069838\n",
      "1553869.2199365569\n",
      "1437359.6354517364\n",
      "1582121.387571767\n",
      "1469112.7170309266\n",
      "1480022.125738743\n",
      "1666877.8904773975\n",
      "1721717.753613714\n",
      "1779198.539393926\n",
      "1720069.784873094\n",
      "1637579.903268644\n",
      "1550394.70648501\n",
      "1497364.8846661367\n",
      "1522395.0349607375\n",
      "1469112.7170309266\n",
      "1412608.3817605062\n",
      "1406248.9640473842\n",
      "1525617.0523013468\n",
      "1408233.271882342\n",
      "1582121.387571767\n",
      "1610116.696274074\n",
      "1664471.0037910626\n",
      "1776643.2122496401\n",
      "1690250.9378607546\n",
      "1638364.3483011147\n",
      "1551126.9199309028\n",
      "1469112.7170309266\n",
      "1535591.1860030377\n",
      "1412608.3817605062\n",
      "1525617.0523013468\n",
      "1610348.7227043435\n",
      "1507314.1902129487\n",
      "1464248.795907816\n",
      "1412608.3817605062\n",
      "1296004.0431797768\n",
      "1440860.5493957163\n",
      "1294764.0731105097\n",
      "1384356.214125296\n",
      "1432279.625635685\n",
      "1582121.387571767\n",
      "1636792.0021736647\n",
      "1493992.634336324\n",
      "1469112.7170309266\n",
      "1417413.623155408\n",
      "1299105.9489989409\n",
      "1440860.5493957163\n",
      "1463544.2291651622\n",
      "1384356.214125296\n",
      "1319575.830363371\n",
      "1205506.7384580933\n",
      "1214843.2083140353\n",
      "1267700.2660859572\n",
      "1158338.8730436151\n",
      "1186591.0406788252\n",
      "1071592.456810598\n",
      "1017078.0348675646\n",
      "1101834.537773195\n",
      "1043252.8006561525\n",
      "960573.6995971443\n",
      "960573.6995971443\n",
      "976186.5495995326\n",
      "904069.364326724\n",
      "904069.364326724\n",
      "844068.15143749\n",
      "847565.0290563038\n",
      "841889.4868883132\n",
      "904069.364326724\n",
      "956158.4891432509\n",
      "978406.5783725757\n",
      "932321.5319619342\n",
      "904069.364326724\n",
      "844442.9571120745\n",
      "791060.6937858835\n",
      "816943.0748630877\n",
      "932321.5319619342\n",
      "844816.8978883675\n"
     ]
    }
   ],
   "source": [
    "rnds = 100\n",
    "saved_rwrds = torch.zeros(rnds)\n",
    "saved_deltas = torch.zeros(rnds)\n",
    "test_points = torch.linspace(-max_jump, max_jump)\n",
    "# test_points = torch.arange(1, 1000).float().div(max_x)\n",
    "for ii in range(rnds):\n",
    "    bo.train_surrogate(iters=200, overwrite=True)\n",
    "    next_rate = bo.acquire(explore=0.01).unsqueeze(0)\n",
    "#     print(next_rate.shape)\n",
    "#     print(\"next rate = \", next_rate)\n",
    "    rwrd = torch.tensor(env.step(next_rate)[1]).unsqueeze(0)\n",
    "    saved_rwrds[ii] = rwrd.item()\n",
    "    print(env.senders[0].get_run_data().get(\"recv rate\"))\n",
    "    bo.update_obs(next_rate, rwrd, max_obs=4)\n",
    "    "
   ]
  },
  {
   "cell_type": "code",
   "execution_count": 15,
   "metadata": {},
   "outputs": [
    {
     "data": {
      "text/plain": [
       "tensor([-0.4757, -0.3311, -0.5313, -0.4702, -0.3466, -0.1225, -0.4541, -0.6620,\n",
       "        -0.4171, -0.7306, -0.8738, -0.4705, -0.3874, -0.4412, -0.3473, -0.2607,\n",
       "        -0.1331, -0.3711, -0.3466, -0.2991, -0.5499, -0.3285, -0.2108, -0.5584,\n",
       "        -0.5310, -0.5928, -0.7208, -0.4757, -0.6860, -0.7606, -0.3874, -0.3303,\n",
       "        -0.3473, -0.3320, -0.4179, -0.5087, -0.5640, -0.6272, -0.5934, -0.7484,\n",
       "        -0.8476, -0.7100, -0.8455, -0.4757, -0.5313, -0.5512, -0.3500, -0.4437,\n",
       "        -0.4171, -0.5080, -0.6860, -0.5242, -0.9300, -0.7100, -0.5310, -0.7291,\n",
       "        -0.5985, -0.7484, -0.8779, -0.6228, -0.8792, -0.8740, -0.7261, -0.4757,\n",
       "        -0.4187, -0.7461, -0.6860, -0.6473, -0.8747, -0.6228, -0.5992, -0.8740,\n",
       "        -0.8512, -1.0854, -0.9694, -0.8032, -1.1444, -0.8877, -1.1325, -1.1959,\n",
       "        -1.0979, -1.0370, -1.3934, -1.1231, -1.1069, -1.4677, -1.3291, -1.2445,\n",
       "        -1.2409, -1.2468, -1.3291, -1.1277, -1.1046, -1.2954, -1.3291, -1.2441,\n",
       "        -1.6223, -1.4340, -1.1526, -1.2437])"
      ]
     },
     "execution_count": 15,
     "metadata": {},
     "output_type": "execute_result"
    }
   ],
   "source": [
    "saved_rwrds"
   ]
  },
  {
   "cell_type": "code",
   "execution_count": null,
   "metadata": {
    "collapsed": true
   },
   "outputs": [],
   "source": []
  }
 ],
 "metadata": {
  "kernelspec": {
   "display_name": "Python 3",
   "language": "python",
   "name": "python3"
  },
  "language_info": {
   "codemirror_mode": {
    "name": "ipython",
    "version": 3
   },
   "file_extension": ".py",
   "mimetype": "text/x-python",
   "name": "python",
   "nbconvert_exporter": "python",
   "pygments_lexer": "ipython3",
   "version": "3.6.3"
  }
 },
 "nbformat": 4,
 "nbformat_minor": 2
}
