{
 "cells": [
  {
   "cell_type": "code",
   "execution_count": 33,
   "metadata": {},
   "outputs": [],
   "source": [
    "import torch\n",
    "import numpy as np\n",
    "import matplotlib.pyplot as plt\n",
    "import seaborn as sns\n"
   ]
  },
  {
   "cell_type": "markdown",
   "metadata": {},
   "source": [
    "## Basic BOCC Simulations"
   ]
  },
  {
   "cell_type": "code",
   "execution_count": 34,
   "metadata": {},
   "outputs": [],
   "source": [
    "fpath = \"../experiments/acquisition-testing/\"\n",
    "basic_actions = torch.load(fpath + \"actions.pt\")[1, ::]\n",
    "basic_events = torch.load(fpath + \"events.pt\")[1, ::]\n",
    "basic_loss = torch.load(fpath + \"loss.pt\")[1, ::]\n",
    "basic_latency = torch.load(fpath + \"latency.pt\")[1, ::]\n",
    "basic_rwrds = torch.load(fpath + \"rwrds.pt\")[1, ::]\n",
    "basic_thruput = torch.load(fpath + \"thruput.pt\")[1, ::]\n"
   ]
  },
  {
   "cell_type": "markdown",
   "metadata": {},
   "source": [
    "## Multiple Senders"
   ]
  },
  {
   "cell_type": "markdown",
   "metadata": {},
   "source": [
    "### Send Separate"
   ]
  },
  {
   "cell_type": "code",
   "execution_count": 35,
   "metadata": {},
   "outputs": [],
   "source": [
    "fpath = \"../experiments/multiple-senders/saved-outputs/\"\n",
    "sep_actions = torch.load(fpath + \"separate_rates.pt\")\n",
    "sep_events = torch.load(fpath + \"separate_events.pt\")\n",
    "sep_loss = torch.load(fpath + \"separate_loss.pt\")\n",
    "sep_latency = torch.load(fpath + \"separate_latency.pt\")\n",
    "sep_rwrds = torch.load(fpath + \"separate_rwrds.pt\")\n",
    "sep_thruput = torch.load(fpath + \"separate_thruput.pt\")"
   ]
  },
  {
   "cell_type": "markdown",
   "metadata": {},
   "source": [
    "### Send Together"
   ]
  },
  {
   "cell_type": "code",
   "execution_count": 36,
   "metadata": {},
   "outputs": [],
   "source": [
    "fpath = \"../experiments/multiple-senders/saved-outputs/\"\n",
    "together_actions = torch.load(fpath + \"together_saved_rates.pt\")\n",
    "together_rwrds = torch.load(fpath + \"together_saved_rwrds.pt\")\n",
    "together_events = torch.load(fpath + \"together_events.pt\")\n",
    "together_loss = torch.load(fpath + \"together_loss.pt\")\n",
    "together_latency = torch.load(fpath + \"together_latency.pt\")\n",
    "together_thruput = torch.load(fpath + \"together_thruput.pt\")"
   ]
  },
  {
   "cell_type": "code",
   "execution_count": 37,
   "metadata": {},
   "outputs": [
    {
     "data": {
      "text/plain": [
       "torch.Size([20, 100, 2])"
      ]
     },
     "execution_count": 37,
     "metadata": {},
     "output_type": "execute_result"
    }
   ],
   "source": [
    "sep_loss.shape"
   ]
  },
  {
   "cell_type": "markdown",
   "metadata": {},
   "source": [
    "## Plot Multiple Senders"
   ]
  },
  {
   "cell_type": "code",
   "execution_count": null,
   "metadata": {},
   "outputs": [],
   "source": [
    "sns.set_style(\"white\")\n",
    "colors = sns.color_palette()\n",
    "\n",
    "ind = 1\n",
    "ax_fs = 18\n",
    "lwd = 2\n",
    "\n",
    "fig, (ax1, ax2, ax3,) = plt.subplots(1, 3, figsize=(20, 4))\n",
    "\n",
    "## plot loss\n",
    "ax1.plot(sep_loss[ind, :, 0], linestyle=\":\", color=colors[0], linewidth=lwd)\n",
    "line1,  = ax1.plot(sep_loss[ind, :, 1], color=colors[0], linewidth=lwd)\n",
    "\n",
    "ax1.plot(together_loss[ind, :, 0], linestyle=\":\", color=colors[1], linewidth=lwd)\n",
    "line2,  = ax1.plot(together_loss[ind, :, 1], color=colors[1], linewidth=lwd)\n",
    "\n",
    "ax1.set_title(\"Loss\", fontsize=ax_fs+2)\n",
    "ax1.set_xlabel(\"Iteration\", fontsize=ax_fs)\n",
    "ax1.set_ylabel(\"Loss\", fontsize=ax_fs)\n",
    "ax1.tick_params(\"both\", labelsize=ax_fs-2)\n",
    "\n",
    "\n",
    "\n",
    "## plot latency\n",
    "ax2.plot(sep_latency[ind, :, 0], linestyle=\":\", color=colors[0], linewidth=lwd)\n",
    "ax2.plot(sep_latency[ind, :, 1], color=colors[0], linewidth=lwd)\n",
    "\n",
    "ax2.plot(together_latency[ind, :, 0], linestyle=\":\", color=colors[1], linewidth=lwd)\n",
    "ax2.plot(together_latency[ind, :, 1], color=colors[1], linewidth=lwd)\n",
    "\n",
    "ax2.set_title(\"Latency\", fontsize=ax_fs+2)\n",
    "ax2.set_xlabel(\"Iteration\", fontsize=ax_fs)\n",
    "ax2.set_ylabel(\"Latency\", fontsize=ax_fs)\n",
    "ax2.tick_params(\"both\", labelsize=ax_fs-2)\n",
    "\n",
    "## plot throughput\n",
    "ax3.plot(sep_thruput[ind, :, 0], linestyle=\":\", color=colors[0], linewidth=lwd)\n",
    "ax3.plot(sep_thruput[ind, :, 1], color=colors[0], linewidth=lwd)\n",
    "\n",
    "ax3.plot(together_thruput[ind, :, 0], linestyle=\":\", color=colors[1], linewidth=lwd)\n",
    "ax3.plot(together_thruput[ind, :, 1], color=colors[1], linewidth=lwd)\n",
    "\n",
    "ax3.set_title(\"Latency\", fontsize=ax_fs+2)\n",
    "ax3.set_xlabel(\"Iteration\", fontsize=ax_fs)\n",
    "ax3.set_ylabel(\"Latency\", fontsize=ax_fs)\n",
    "ax3.tick_params(\"both\", labelsize=ax_fs-2)\n",
    "ax3.ticklabel_format(axis='y',style='sci', scilimits=(0, 0))\n",
    "ax3.tick_params(\"both\", labelsize=ax_fs-2)\n",
    "ax3.yaxis.offsetText.set_fontsize(ax_fs-2)\n",
    "\n",
    "ax2.legend([line1, line2], ['Separate', 'Together'], fontsize=ax_fs-2,\n",
    "          ncol=2, bbox_to_anchor=(0.9, -0.2))\n",
    "\n",
    "# fig.legend([line1, line2], ['Separate', 'Together'], fontsize=ax_fs-2,\n",
    "#           ncol=2, bbox_to_anchor=(0.7, 0.5))\n",
    "# leg_ax = fig.add_axes([0.1, 0.1, 0.6, 0.75])\n",
    "# fig.legend([line1, line2], ['Separate', 'Together'], fontsize=ax_fs-2,\n",
    "#           ncol=1)\n",
    "plt.savefig(\"./multi-sender.pdf\", bbox_inches='tight')"
   ]
  },
  {
   "cell_type": "code",
   "execution_count": null,
   "metadata": {},
   "outputs": [],
   "source": []
  }
 ],
 "metadata": {
  "kernelspec": {
   "display_name": "Python 3",
   "language": "python",
   "name": "python3"
  },
  "language_info": {
   "codemirror_mode": {
    "name": "ipython",
    "version": 3
   },
   "file_extension": ".py",
   "mimetype": "text/x-python",
   "name": "python",
   "nbconvert_exporter": "python",
   "pygments_lexer": "ipython3",
   "version": "3.7.3"
  }
 },
 "nbformat": 4,
 "nbformat_minor": 4
}
