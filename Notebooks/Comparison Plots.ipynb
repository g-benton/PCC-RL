{
 "cells": [
  {
   "cell_type": "code",
   "execution_count": 2,
   "metadata": {},
   "outputs": [],
   "source": [
    "import torch\n",
    "import numpy as np\n",
    "import matplotlib.pyplot as plt\n",
    "import seaborn as sns\n"
   ]
  },
  {
   "cell_type": "markdown",
   "metadata": {},
   "source": [
    "## Basic BOCC Simulations"
   ]
  },
  {
   "cell_type": "code",
   "execution_count": 7,
   "metadata": {},
   "outputs": [],
   "source": [
    "fpath = \"../experiments/acquisition-testing/\"\n",
    "basic_actions = torch.load(fpath + \"actions.pt\")[1, ::]\n",
    "basic_events = torch.load(fpath + \"events.pt\")[1, ::]\n",
    "basic_loss = torch.load(fpath + \"loss.pt\")[1, ::]\n",
    "basic_latency = torch.load(fpath + \"latency.pt\")[1, ::]\n",
    "basic_rwrds = torch.load(fpath + \"rwrds.pt\")[1, ::]\n",
    "basic_thruput = torch.load(fpath + \"thruput.pt\")[1, ::]\n"
   ]
  },
  {
   "cell_type": "markdown",
   "metadata": {},
   "source": [
    "## Multiple Senders"
   ]
  },
  {
   "cell_type": "markdown",
   "metadata": {},
   "source": [
    "### Send Separate"
   ]
  },
  {
   "cell_type": "code",
   "execution_count": 12,
   "metadata": {},
   "outputs": [],
   "source": [
    "fpath = \"../experiments/multiple-senders/saved-outputs/\"\n",
    "sep_actions = torch.load(fpath + \"separate_rates.pt\")\n",
    "sep_events = torch.load(fpath + \"separate_events.pt\")\n",
    "sep_loss = torch.load(fpath + \"separate_loss.pt\")\n",
    "sep_latency = torch.load(fpath + \"separate_latency.pt\")\n",
    "sep_rwrds = torch.load(fpath + \"separate_rwrds.pt\")\n",
    "sep_thruput = torch.load(fpath + \"separate_thruput.pt\")"
   ]
  },
  {
   "cell_type": "markdown",
   "metadata": {},
   "source": [
    "### Send Together"
   ]
  },
  {
   "cell_type": "code",
   "execution_count": 13,
   "metadata": {},
   "outputs": [],
   "source": [
    "fpath = \"../experiments/multiple-senders/saved-outputs/\"\n",
    "together_actions = torch.load(fpath + \"together_saved_rates.pt\")\n",
    "together_rwrds = torch.load(fpath + \"together_saved_rwrds.pt\")\n",
    "together_events = torch.load(fpath + \"together_events.pt\")\n",
    "together_loss = torch.load(fpath + \"together_loss.pt\")\n",
    "together_latency = torch.load(fpath + \"together_latency.pt\")\n",
    "together_thruput = torch.load(fpath + \"together_thruput.pt\")"
   ]
  },
  {
   "cell_type": "code",
   "execution_count": null,
   "metadata": {},
   "outputs": [],
   "source": []
  }
 ],
 "metadata": {
  "kernelspec": {
   "display_name": "Python 3",
   "language": "python",
   "name": "python3"
  },
  "language_info": {
   "codemirror_mode": {
    "name": "ipython",
    "version": 3
   },
   "file_extension": ".py",
   "mimetype": "text/x-python",
   "name": "python",
   "nbconvert_exporter": "python",
   "pygments_lexer": "ipython3",
   "version": "3.7.3"
  }
 },
 "nbformat": 4,
 "nbformat_minor": 4
}
